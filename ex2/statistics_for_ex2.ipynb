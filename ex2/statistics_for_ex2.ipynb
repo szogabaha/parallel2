{
 "cells": [
  {
   "cell_type": "code",
   "execution_count": 12,
   "metadata": {},
   "outputs": [],
   "source": [
    "import subprocess\n",
    "import pandas as pd\n",
    "import matplotlib.pyplot as plt\n",
    "from turtle import width"
   ]
  },
  {
   "cell_type": "code",
   "execution_count": 29,
   "metadata": {},
   "outputs": [],
   "source": [
    "NTHREADS = \"Number of Threads\"\n",
    "MAX_VALUE = \"Max Value\"\n",
    "EXC_TIME = \"Execution time\"\n",
    "SPEEDUP = \"Speedup\""
   ]
  },
  {
   "cell_type": "code",
   "execution_count": 2,
   "metadata": {},
   "outputs": [
    {
     "name": "stdout",
     "output_type": "stream",
     "text": [
      "  Number of Threads Max Value Execution time\n",
      "0                 1   1000000        1636699\n",
      "1                 1   2000000        4403795\n",
      "2                 1  10000000       42763342\n",
      "3                 1  40000000      315262601\n",
      "  Number of Threads Max Value Execution time\n",
      "0                 1   1000000        1636699\n",
      "1                 1   2000000        4403795\n",
      "2                 1  10000000       42763342\n",
      "3                 1  40000000      315262601\n",
      "4                 2   1000000         857460\n",
      "5                 2   2000000        2210973\n",
      "6                 2  10000000       21805862\n",
      "7                 2  40000000      157927405\n",
      "   Number of Threads Max Value Execution time\n",
      "0                  1   1000000        1636699\n",
      "1                  1   2000000        4403795\n",
      "2                  1  10000000       42763342\n",
      "3                  1  40000000      315262601\n",
      "4                  2   1000000         857460\n",
      "5                  2   2000000        2210973\n",
      "6                  2  10000000       21805862\n",
      "7                  2  40000000      157927405\n",
      "8                  4   1000000         463296\n",
      "9                  4   2000000        1202206\n",
      "10                 4  10000000       11846424\n",
      "11                 4  40000000       87426538\n",
      "   Number of Threads Max Value Execution time\n",
      "0                  1   1000000        1636699\n",
      "1                  1   2000000        4403795\n",
      "2                  1  10000000       42763342\n",
      "3                  1  40000000      315262601\n",
      "4                  2   1000000         857460\n",
      "5                  2   2000000        2210973\n",
      "6                  2  10000000       21805862\n",
      "7                  2  40000000      157927405\n",
      "8                  4   1000000         463296\n",
      "9                  4   2000000        1202206\n",
      "10                 4  10000000       11846424\n",
      "11                 4  40000000       87426538\n",
      "12                 8   1000000         369005\n",
      "13                 8   2000000         974278\n",
      "14                 8  10000000        9236579\n",
      "15                 8  40000000       67306714\n"
     ]
    }
   ],
   "source": [
    "\n",
    "#Run script, save values to csv\n",
    "\n",
    "return_values = pd.DataFrame(columns=[NTHREADS, MAX_VALUE, EXC_TIME])\n",
    "for threads in [1,2,4,8]:\n",
    "    for max_value in  [1000000, 2000000, 10000000, 40000000]:\n",
    "        stdout = subprocess.run([\"./sieve_of_eratosthenes_parallel\", f\"{max_value}\", f\"{threads}\", \"--time\"], capture_output = True).stdout.decode()\n",
    "        return_values = return_values.append({NTHREADS: threads, MAX_VALUE: max_value, EXC_TIME: stdout}, ignore_index=True)\n",
    "    print(return_values)\n",
    "return_values.to_csv(\"stdout.csv\")\n"
   ]
  },
  {
   "cell_type": "code",
   "execution_count": 43,
   "metadata": {},
   "outputs": [
    {
     "data": {
      "text/html": [
       "<div>\n",
       "<style scoped>\n",
       "    .dataframe tbody tr th:only-of-type {\n",
       "        vertical-align: middle;\n",
       "    }\n",
       "\n",
       "    .dataframe tbody tr th {\n",
       "        vertical-align: top;\n",
       "    }\n",
       "\n",
       "    .dataframe thead th {\n",
       "        text-align: right;\n",
       "    }\n",
       "</style>\n",
       "<table border=\"1\" class=\"dataframe\">\n",
       "  <thead>\n",
       "    <tr style=\"text-align: right;\">\n",
       "      <th>Number of Threads</th>\n",
       "      <th>1.0</th>\n",
       "      <th>2.0</th>\n",
       "      <th>4.0</th>\n",
       "      <th>8.0</th>\n",
       "      <th>16.0</th>\n",
       "    </tr>\n",
       "    <tr>\n",
       "      <th>Max Value</th>\n",
       "      <th></th>\n",
       "      <th></th>\n",
       "      <th></th>\n",
       "      <th></th>\n",
       "      <th></th>\n",
       "    </tr>\n",
       "  </thead>\n",
       "  <tbody>\n",
       "    <tr>\n",
       "      <th>1000000.0</th>\n",
       "      <td>1.0</td>\n",
       "      <td>1.962679</td>\n",
       "      <td>3.857185</td>\n",
       "      <td>7.412357</td>\n",
       "      <td>13.359858</td>\n",
       "    </tr>\n",
       "    <tr>\n",
       "      <th>2000000.0</th>\n",
       "      <td>1.0</td>\n",
       "      <td>1.978277</td>\n",
       "      <td>3.905088</td>\n",
       "      <td>7.561816</td>\n",
       "      <td>13.888169</td>\n",
       "    </tr>\n",
       "    <tr>\n",
       "      <th>10000000.0</th>\n",
       "      <td>1.0</td>\n",
       "      <td>1.969874</td>\n",
       "      <td>3.909989</td>\n",
       "      <td>7.714275</td>\n",
       "      <td>14.602987</td>\n",
       "    </tr>\n",
       "    <tr>\n",
       "      <th>40000000.0</th>\n",
       "      <td>1.0</td>\n",
       "      <td>1.981359</td>\n",
       "      <td>3.941189</td>\n",
       "      <td>7.830329</td>\n",
       "      <td>14.939149</td>\n",
       "    </tr>\n",
       "  </tbody>\n",
       "</table>\n",
       "</div>"
      ],
      "text/plain": [
       "Number of Threads  1.0       2.0       4.0       8.0        16.0\n",
       "Max Value                                                       \n",
       "1000000.0           1.0  1.962679  3.857185  7.412357  13.359858\n",
       "2000000.0           1.0  1.978277  3.905088  7.561816  13.888169\n",
       "10000000.0          1.0  1.969874  3.909989  7.714275  14.602987\n",
       "40000000.0          1.0  1.981359  3.941189  7.830329  14.939149"
      ]
     },
     "execution_count": 43,
     "metadata": {},
     "output_type": "execute_result"
    }
   ],
   "source": [
    "#Load csv, plot chart\n",
    "stdout = pd.read_csv(\"stdout.csv\", index_col=0)\n",
    "stdout[EXC_TIME] = stdout[EXC_TIME] / 1000 # µs to ms\n",
    "\n",
    "speedups = pd.DataFrame(columns=[NTHREADS, MAX_VALUE, SPEEDUP])\n",
    "\n",
    "for max in [1000000, 2000000, 10000000, 40000000]:\n",
    "    t1 = stdout[(stdout[MAX_VALUE] == max)&(stdout[NTHREADS] == 1)][EXC_TIME].iloc[0]\n",
    "    for i, record in stdout[(stdout[MAX_VALUE] == max)].iterrows():\n",
    "        speedups = speedups.append({NTHREADS: record[NTHREADS], MAX_VALUE: max, SPEEDUP: t1 / record[EXC_TIME]}, ignore_index=True)\n",
    "\n",
    "data = speedups.pivot(MAX_VALUE, NTHREADS, SPEEDUP)\n",
    "data"
   ]
  },
  {
   "cell_type": "code",
   "execution_count": 41,
   "metadata": {},
   "outputs": [
    {
     "data": {
      "text/html": [
       "<div>\n",
       "<style scoped>\n",
       "    .dataframe tbody tr th:only-of-type {\n",
       "        vertical-align: middle;\n",
       "    }\n",
       "\n",
       "    .dataframe tbody tr th {\n",
       "        vertical-align: top;\n",
       "    }\n",
       "\n",
       "    .dataframe thead th {\n",
       "        text-align: right;\n",
       "    }\n",
       "</style>\n",
       "<table border=\"1\" class=\"dataframe\">\n",
       "  <thead>\n",
       "    <tr style=\"text-align: right;\">\n",
       "      <th>Number of Threads</th>\n",
       "      <th>1</th>\n",
       "      <th>2</th>\n",
       "      <th>4</th>\n",
       "      <th>8</th>\n",
       "      <th>16</th>\n",
       "    </tr>\n",
       "    <tr>\n",
       "      <th>Max Value</th>\n",
       "      <th></th>\n",
       "      <th></th>\n",
       "      <th></th>\n",
       "      <th></th>\n",
       "      <th></th>\n",
       "    </tr>\n",
       "  </thead>\n",
       "  <tbody>\n",
       "    <tr>\n",
       "      <th>1000000</th>\n",
       "      <td>5224.800</td>\n",
       "      <td>2662.075</td>\n",
       "      <td>1354.563</td>\n",
       "      <td>704.877</td>\n",
       "      <td>391.082</td>\n",
       "    </tr>\n",
       "    <tr>\n",
       "      <th>2000000</th>\n",
       "      <td>13998.955</td>\n",
       "      <td>7076.337</td>\n",
       "      <td>3584.799</td>\n",
       "      <td>1851.269</td>\n",
       "      <td>1007.977</td>\n",
       "    </tr>\n",
       "    <tr>\n",
       "      <th>10000000</th>\n",
       "      <td>142640.854</td>\n",
       "      <td>72411.147</td>\n",
       "      <td>36481.140</td>\n",
       "      <td>18490.507</td>\n",
       "      <td>9767.923</td>\n",
       "    </tr>\n",
       "    <tr>\n",
       "      <th>40000000</th>\n",
       "      <td>1067057.407</td>\n",
       "      <td>538548.155</td>\n",
       "      <td>270745.028</td>\n",
       "      <td>136272.368</td>\n",
       "      <td>71426.919</td>\n",
       "    </tr>\n",
       "  </tbody>\n",
       "</table>\n",
       "</div>"
      ],
      "text/plain": [
       "Number of Threads           1           2           4           8          16\n",
       "Max Value                                                                    \n",
       "1000000               5224.800    2662.075    1354.563     704.877    391.082\n",
       "2000000              13998.955    7076.337    3584.799    1851.269   1007.977\n",
       "10000000            142640.854   72411.147   36481.140   18490.507   9767.923\n",
       "40000000           1067057.407  538548.155  270745.028  136272.368  71426.919"
      ]
     },
     "execution_count": 41,
     "metadata": {},
     "output_type": "execute_result"
    }
   ],
   "source": [
    "stdpivot = stdout.pivot(MAX_VALUE, NTHREADS, EXC_TIME)\n",
    "stdpivot"
   ]
  },
  {
   "cell_type": "code",
   "execution_count": 44,
   "metadata": {},
   "outputs": [
    {
     "data": {
      "image/png": "[encoded data removed]",
      "text/plain": [
       "<Figure size 2000x800 with 1 Axes>"
      ]
     },
     "metadata": {},
     "output_type": "display_data"
    }
   ],
   "source": [
    "plt.rcParams['figure.figsize'] = [20, 8]\n",
    "plt.rcParams.update({'font.size': 22})\n",
    "\n",
    "ax = data.plot(kind='bar', colormap=\"Pastel2\")\n",
    "ax.set_ylabel(\"Speedup\")\n",
    "plt.xticks(rotation=0, ha='right')\n",
    "plt.legend(loc='center left', bbox_to_anchor=(1.0, 0.5))\n",
    "plt.savefig(\"performance_visualisation.png\", bbox_inches='tight')"
   ]
  }
 ],
 "metadata": {
  "kernelspec": {
   "display_name": "Python 3.7.13 ('base')",
   "language": "python",
   "name": "python3"
  },
  "language_info": {
   "codemirror_mode": {
    "name": "ipython",
    "version": 3
   },
   "file_extension": ".py",
   "mimetype": "text/x-python",
   "name": "python",
   "nbconvert_exporter": "python",
   "pygments_lexer": "ipython3",
   "version": "3.7.13"
  },
  "orig_nbformat": 4,
  "vscode": {
   "interpreter": {
    "hash": "2cd500b0e5fcb435aac2a2c3f696daef14479e4045b7bf36554f2e47b7213b1e"
   }
  }
 },
 "nbformat": 4,
 "nbformat_minor": 2
}
